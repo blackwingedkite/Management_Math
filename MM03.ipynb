{
 "cells": [
  {
   "cell_type": "markdown",
   "id": "c4af4353",
   "metadata": {},
   "source": [
    "## question 1A\n",
    "generate six sentences"
   ]
  },
  {
   "cell_type": "code",
   "execution_count": 59,
   "id": "0d608a6a",
   "metadata": {},
   "outputs": [],
   "source": [
    "A = \"I love Management Mathematics\"\n",
    "B = \"I hate Management Mathematics\"\n",
    "C = \"I love Operations Research\"\n",
    "D = \"I hate Operations Research\"\n",
    "E = \"I love Manufacturing Data Science\"\n",
    "F = \"I hate Manufacturing Data Science\""
   ]
  },
  {
   "cell_type": "markdown",
   "id": "e8567d93",
   "metadata": {},
   "source": [
    "## Question 1B\n",
    "Get the list of words in each sentence by calling the split() in strings, and convert the sentence into lowercase."
   ]
  },
  {
   "cell_type": "code",
   "execution_count": 60,
   "id": "b32e03e9",
   "metadata": {},
   "outputs": [
    {
     "name": "stdout",
     "output_type": "stream",
     "text": [
      "['i', 'love', 'management', 'mathematics']\n",
      "['i', 'hate', 'management', 'mathematics']\n",
      "['i', 'love', 'operations', 'research']\n",
      "['i', 'hate', 'operations', 'research']\n",
      "['i', 'love', 'manufacturing', 'data', 'science']\n",
      "['i', 'hate', 'manufacturing', 'data', 'science']\n"
     ]
    }
   ],
   "source": [
    "import numpy as np\n",
    "wordsA = A.lower().split()\n",
    "wordsB = B.lower().split()\n",
    "wordsC = C.lower().split()\n",
    "wordsD = D.lower().split()\n",
    "wordsE = E.lower().split()\n",
    "wordsF = F.lower().split()\n",
    "print(wordsA)\n",
    "print(wordsB)\n",
    "print(wordsC)\n",
    "print(wordsD)\n",
    "print(wordsE)\n",
    "print(wordsF)"
   ]
  },
  {
   "cell_type": "markdown",
   "id": "7f97bc4e",
   "metadata": {},
   "source": [
    "## Question 1C\n",
    "Use the set class to identify the dimensionality of the feature space and print all vocabs."
   ]
  },
  {
   "cell_type": "code",
   "execution_count": 61,
   "id": "8c49de6c",
   "metadata": {},
   "outputs": [
    {
     "name": "stdout",
     "output_type": "stream",
     "text": [
      "{'manufacturing', 'data', 'research', 'operations', 'mathematics', 'love', 'i', 'science', 'management', 'hate'}\n"
     ]
    }
   ],
   "source": [
    "vocab = set(wordsA)\n",
    "vocab = vocab.union(set(wordsB))\n",
    "vocab = vocab.union(set(wordsC))\n",
    "vocab = vocab.union(set(wordsD))\n",
    "vocab = vocab.union(set(wordsE))\n",
    "vocab = vocab.union(set(wordsF))\n",
    "print(vocab)"
   ]
  },
  {
   "cell_type": "markdown",
   "id": "5e58c08e",
   "metadata": {},
   "source": [
    "## 1D \n",
    "To build the one-to-one mapping between features and IDs in the feature space. We use the list() to convert the vocabs into unique features."
   ]
  },
  {
   "cell_type": "code",
   "execution_count": 62,
   "id": "20bbbe69",
   "metadata": {},
   "outputs": [
    {
     "name": "stdout",
     "output_type": "stream",
     "text": [
      "['manufacturing', 'data', 'research', 'operations', 'mathematics', 'love', 'i', 'science', 'management', 'hate']\n"
     ]
    }
   ],
   "source": [
    "vocab = list(vocab)\n",
    "print(vocab)"
   ]
  },
  {
   "cell_type": "markdown",
   "id": "fb709141",
   "metadata": {},
   "source": [
    "## 1E\n",
    "declare six 1D arrays for the six sentences and build each word vector by increasing the corresponding feature values"
   ]
  },
  {
   "cell_type": "code",
   "execution_count": 63,
   "id": "1f95cf45",
   "metadata": {},
   "outputs": [
    {
     "name": "stdout",
     "output_type": "stream",
     "text": [
      "[0. 0. 0. 0. 1. 1. 1. 0. 1. 0.]\n",
      "[0. 0. 0. 0. 1. 0. 1. 0. 1. 1.]\n",
      "[0. 0. 1. 1. 0. 1. 1. 0. 0. 0.]\n",
      "[0. 0. 1. 1. 0. 0. 1. 0. 0. 1.]\n",
      "[1. 1. 0. 0. 0. 1. 1. 1. 0. 0.]\n",
      "[1. 1. 0. 0. 0. 0. 1. 1. 0. 1.]\n"
     ]
    }
   ],
   "source": [
    "vA = np.zeros(len(vocab), dtype=float)\n",
    "vB = np.zeros(len(vocab), dtype=float)\n",
    "vC = np.zeros(len(vocab), dtype=float)\n",
    "vD = np.zeros(len(vocab), dtype=float)\n",
    "vE = np.zeros(len(vocab), dtype=float)\n",
    "vF = np.zeros(len(vocab), dtype=float)\n",
    "\n",
    "for w in wordsA:\n",
    "    i = vocab.index(w)\n",
    "    vA[i] += 1\n",
    "print(vA)\n",
    "\n",
    "for w in wordsB:\n",
    "    i = vocab.index(w)\n",
    "    vB[i] += 1\n",
    "print(vB)\n",
    "\n",
    "for w in wordsC:\n",
    "    i = vocab.index(w)\n",
    "    vC[i] += 1\n",
    "print(vC)\n",
    "\n",
    "for w in wordsD:\n",
    "    i = vocab.index(w)\n",
    "    vD[i] += 1\n",
    "print(vD)\n",
    "\n",
    "for w in wordsE:\n",
    "    i = vocab.index(w)\n",
    "    vE[i] += 1\n",
    "print(vE)\n",
    "\n",
    "for w in wordsF:\n",
    "    i = vocab.index(w)\n",
    "    vF[i] += 1\n",
    "print(vF)"
   ]
  },
  {
   "cell_type": "markdown",
   "id": "5a026347",
   "metadata": {},
   "source": [
    "## 1F\n",
    "Compute the cosine similarity between two vectors and show a 6x6 matrix including these similarity values"
   ]
  },
  {
   "cell_type": "code",
   "execution_count": 64,
   "id": "5ba1293d",
   "metadata": {},
   "outputs": [],
   "source": [
    "import pandas as pd\n",
    "arr = np.zeros((6,6))\n",
    "xc = 0\n",
    "xr = 0\n",
    "for i in [vA, vB, vC, vD, vE, vF]:\n",
    "    xr = 0\n",
    "    for j in [vA, vB, vC, vD, vE, vF]:\n",
    "        cos = np.dot(i, j) / (np.sqrt(np.dot(i,i)) * np.sqrt(np.dot(j,j)))\n",
    "        arr[xc][xr] = cos\n",
    "        xr += 1\n",
    "    xc += 1\n",
    "data = pd.DataFrame(arr, columns = [\"vA\", \"vB\", \"vC\", \"vD\", 'vE', 'vF'])"
   ]
  },
  {
   "cell_type": "code",
   "execution_count": 65,
   "id": "2326cb9e",
   "metadata": {},
   "outputs": [
    {
     "data": {
      "text/html": [
       "<div>\n",
       "<style scoped>\n",
       "    .dataframe tbody tr th:only-of-type {\n",
       "        vertical-align: middle;\n",
       "    }\n",
       "\n",
       "    .dataframe tbody tr th {\n",
       "        vertical-align: top;\n",
       "    }\n",
       "\n",
       "    .dataframe thead th {\n",
       "        text-align: right;\n",
       "    }\n",
       "</style>\n",
       "<table border=\"1\" class=\"dataframe\">\n",
       "  <thead>\n",
       "    <tr style=\"text-align: right;\">\n",
       "      <th></th>\n",
       "      <th>vA</th>\n",
       "      <th>vB</th>\n",
       "      <th>vC</th>\n",
       "      <th>vD</th>\n",
       "      <th>vE</th>\n",
       "      <th>vF</th>\n",
       "    </tr>\n",
       "  </thead>\n",
       "  <tbody>\n",
       "    <tr>\n",
       "      <th>0</th>\n",
       "      <td>1.000000</td>\n",
       "      <td>0.750000</td>\n",
       "      <td>0.500000</td>\n",
       "      <td>0.250000</td>\n",
       "      <td>0.447214</td>\n",
       "      <td>0.223607</td>\n",
       "    </tr>\n",
       "    <tr>\n",
       "      <th>1</th>\n",
       "      <td>0.750000</td>\n",
       "      <td>1.000000</td>\n",
       "      <td>0.250000</td>\n",
       "      <td>0.500000</td>\n",
       "      <td>0.223607</td>\n",
       "      <td>0.447214</td>\n",
       "    </tr>\n",
       "    <tr>\n",
       "      <th>2</th>\n",
       "      <td>0.500000</td>\n",
       "      <td>0.250000</td>\n",
       "      <td>1.000000</td>\n",
       "      <td>0.750000</td>\n",
       "      <td>0.447214</td>\n",
       "      <td>0.223607</td>\n",
       "    </tr>\n",
       "    <tr>\n",
       "      <th>3</th>\n",
       "      <td>0.250000</td>\n",
       "      <td>0.500000</td>\n",
       "      <td>0.750000</td>\n",
       "      <td>1.000000</td>\n",
       "      <td>0.223607</td>\n",
       "      <td>0.447214</td>\n",
       "    </tr>\n",
       "    <tr>\n",
       "      <th>4</th>\n",
       "      <td>0.447214</td>\n",
       "      <td>0.223607</td>\n",
       "      <td>0.447214</td>\n",
       "      <td>0.223607</td>\n",
       "      <td>1.000000</td>\n",
       "      <td>0.800000</td>\n",
       "    </tr>\n",
       "    <tr>\n",
       "      <th>5</th>\n",
       "      <td>0.223607</td>\n",
       "      <td>0.447214</td>\n",
       "      <td>0.223607</td>\n",
       "      <td>0.447214</td>\n",
       "      <td>0.800000</td>\n",
       "      <td>1.000000</td>\n",
       "    </tr>\n",
       "  </tbody>\n",
       "</table>\n",
       "</div>"
      ],
      "text/plain": [
       "         vA        vB        vC        vD        vE        vF\n",
       "0  1.000000  0.750000  0.500000  0.250000  0.447214  0.223607\n",
       "1  0.750000  1.000000  0.250000  0.500000  0.223607  0.447214\n",
       "2  0.500000  0.250000  1.000000  0.750000  0.447214  0.223607\n",
       "3  0.250000  0.500000  0.750000  1.000000  0.223607  0.447214\n",
       "4  0.447214  0.223607  0.447214  0.223607  1.000000  0.800000\n",
       "5  0.223607  0.447214  0.223607  0.447214  0.800000  1.000000"
      ]
     },
     "execution_count": 65,
     "metadata": {},
     "output_type": "execute_result"
    }
   ],
   "source": [
    "data"
   ]
  },
  {
   "cell_type": "markdown",
   "id": "6a516c90",
   "metadata": {},
   "source": [
    "## 1G \n",
    "based on the similarity what;s the result you draw?\n",
    "\n",
    "Based on the cosine similarity matrix provided, we can make several observations:\n",
    "\n",
    "The cosine similarity between a vector and itself is always 1. This is reflected in the diagonal elements of the matrix (1.000000 in all cases).\n",
    "\n",
    "The cosine similarity between vectors vA and vB (0.750000) is the same as the cosine similarity between vectors vB and vA. This is because cosine similarity is symmetric.\n",
    "\n",
    "The cosine similarity between vectors vA and vC (0.500000) indicates that they have a moderate similarity, but not as high as the similarity between vA and vB.\n",
    "\n",
    "The cosine similarity between vectors vA and vD (0.250000) indicates a lower similarity compared to the previous cases.\n",
    "\n",
    "The cosine similarity between vectors vA and vE (0.447214) is the same as the similarity between vA and vC. This suggests that vE and vC have a similar degree of similarity to vA.\n",
    "\n",
    "The cosine similarity between vectors vA and vF (0.223607) is the lowest among all the pairwise similarities involving vA. This indicates that vF is the least similar to vA compared to the other vectors.\n",
    "\n",
    "The cosine similarity between vectors vD and vE (0.223607) is the same as the similarity between vA and vF. This suggests that vD and vE have a similar degree of similarity to vA, which is lower compared to the similarities involving vB, vC, and vE.\n",
    "\n"
   ]
  },
  {
   "cell_type": "markdown",
   "id": "e81f3d05",
   "metadata": {},
   "source": [
    "## 2A\n",
    "please follow the course lecture notes to finish the IR work. Build up the matrix for preparing IR and convert all column vectors into unit vectors as matrix Q."
   ]
  },
  {
   "cell_type": "code",
   "execution_count": 66,
   "id": "7e3fe219",
   "metadata": {},
   "outputs": [
    {
     "data": {
      "text/html": [
       "<div>\n",
       "<style scoped>\n",
       "    .dataframe tbody tr th:only-of-type {\n",
       "        vertical-align: middle;\n",
       "    }\n",
       "\n",
       "    .dataframe tbody tr th {\n",
       "        vertical-align: top;\n",
       "    }\n",
       "\n",
       "    .dataframe thead th {\n",
       "        text-align: right;\n",
       "    }\n",
       "</style>\n",
       "<table border=\"1\" class=\"dataframe\">\n",
       "  <thead>\n",
       "    <tr style=\"text-align: right;\">\n",
       "      <th></th>\n",
       "      <th>M1</th>\n",
       "      <th>M2</th>\n",
       "      <th>M3</th>\n",
       "      <th>M4</th>\n",
       "      <th>M5</th>\n",
       "      <th>M6</th>\n",
       "      <th>M7</th>\n",
       "      <th>M8</th>\n",
       "    </tr>\n",
       "  </thead>\n",
       "  <tbody>\n",
       "    <tr>\n",
       "      <th>determinants</th>\n",
       "      <td>0</td>\n",
       "      <td>6</td>\n",
       "      <td>3</td>\n",
       "      <td>0</td>\n",
       "      <td>1</td>\n",
       "      <td>0</td>\n",
       "      <td>1</td>\n",
       "      <td>1</td>\n",
       "    </tr>\n",
       "    <tr>\n",
       "      <th>eigenvalues</th>\n",
       "      <td>0</td>\n",
       "      <td>0</td>\n",
       "      <td>0</td>\n",
       "      <td>0</td>\n",
       "      <td>0</td>\n",
       "      <td>5</td>\n",
       "      <td>3</td>\n",
       "      <td>2</td>\n",
       "    </tr>\n",
       "    <tr>\n",
       "      <th>linear</th>\n",
       "      <td>5</td>\n",
       "      <td>4</td>\n",
       "      <td>4</td>\n",
       "      <td>5</td>\n",
       "      <td>4</td>\n",
       "      <td>0</td>\n",
       "      <td>3</td>\n",
       "      <td>3</td>\n",
       "    </tr>\n",
       "    <tr>\n",
       "      <th>matrices</th>\n",
       "      <td>6</td>\n",
       "      <td>5</td>\n",
       "      <td>3</td>\n",
       "      <td>3</td>\n",
       "      <td>4</td>\n",
       "      <td>4</td>\n",
       "      <td>3</td>\n",
       "      <td>2</td>\n",
       "    </tr>\n",
       "    <tr>\n",
       "      <th>numerical</th>\n",
       "      <td>0</td>\n",
       "      <td>0</td>\n",
       "      <td>0</td>\n",
       "      <td>0</td>\n",
       "      <td>3</td>\n",
       "      <td>0</td>\n",
       "      <td>4</td>\n",
       "      <td>3</td>\n",
       "    </tr>\n",
       "    <tr>\n",
       "      <th>orthogonality</th>\n",
       "      <td>0</td>\n",
       "      <td>0</td>\n",
       "      <td>0</td>\n",
       "      <td>0</td>\n",
       "      <td>4</td>\n",
       "      <td>6</td>\n",
       "      <td>0</td>\n",
       "      <td>2</td>\n",
       "    </tr>\n",
       "    <tr>\n",
       "      <th>spaces</th>\n",
       "      <td>0</td>\n",
       "      <td>0</td>\n",
       "      <td>5</td>\n",
       "      <td>2</td>\n",
       "      <td>3</td>\n",
       "      <td>3</td>\n",
       "      <td>0</td>\n",
       "      <td>1</td>\n",
       "    </tr>\n",
       "    <tr>\n",
       "      <th>systems</th>\n",
       "      <td>5</td>\n",
       "      <td>3</td>\n",
       "      <td>3</td>\n",
       "      <td>2</td>\n",
       "      <td>4</td>\n",
       "      <td>2</td>\n",
       "      <td>1</td>\n",
       "      <td>1</td>\n",
       "    </tr>\n",
       "    <tr>\n",
       "      <th>transformations</th>\n",
       "      <td>0</td>\n",
       "      <td>0</td>\n",
       "      <td>0</td>\n",
       "      <td>5</td>\n",
       "      <td>1</td>\n",
       "      <td>3</td>\n",
       "      <td>1</td>\n",
       "      <td>0</td>\n",
       "    </tr>\n",
       "    <tr>\n",
       "      <th>vector</th>\n",
       "      <td>0</td>\n",
       "      <td>4</td>\n",
       "      <td>4</td>\n",
       "      <td>3</td>\n",
       "      <td>4</td>\n",
       "      <td>1</td>\n",
       "      <td>0</td>\n",
       "      <td>3</td>\n",
       "    </tr>\n",
       "  </tbody>\n",
       "</table>\n",
       "</div>"
      ],
      "text/plain": [
       "                 M1  M2  M3  M4  M5  M6  M7  M8\n",
       "determinants      0   6   3   0   1   0   1   1\n",
       "eigenvalues       0   0   0   0   0   5   3   2\n",
       "linear            5   4   4   5   4   0   3   3\n",
       "matrices          6   5   3   3   4   4   3   2\n",
       "numerical         0   0   0   0   3   0   4   3\n",
       "orthogonality     0   0   0   0   4   6   0   2\n",
       "spaces            0   0   5   2   3   3   0   1\n",
       "systems           5   3   3   2   4   2   1   1\n",
       "transformations   0   0   0   5   1   3   1   0\n",
       "vector            0   4   4   3   4   1   0   3"
      ]
     },
     "execution_count": 66,
     "metadata": {},
     "output_type": "execute_result"
    }
   ],
   "source": [
    "data = [[0,0,5,6,0,0,0,5,0,0],[6,0,4,5,0,0,0,3,0,4],[3,0,4,3,0,0,5,3,0,4],[0,0,5,3,0,0,2,2,5,3],[1,0,4,4,3,4,3,4,1,4],[0,5,0,4,0,6,3,2,3,1],[1,3,3,3,4,0,0,1,1,0],[1,2,3,2,3,2,1,1,0,3]]\n",
    "A = pd.DataFrame(data).T\n",
    "A.columns=[\"M1\", \"M2\", \"M3\", \"M4\", \"M5\", \"M6\", \"M7\", \"M8\"]\n",
    "A.index=[\"determinants\", \"eigenvalues\", \"linear\", \"matrices\", \"numerical\", \"orthogonality\", \"spaces\", \"systems\", \"transformations\", \"vector\"]\n",
    "A"
   ]
  },
  {
   "cell_type": "code",
   "execution_count": 67,
   "id": "97fbe0e6",
   "metadata": {},
   "outputs": [
    {
     "data": {
      "text/html": [
       "<div>\n",
       "<style scoped>\n",
       "    .dataframe tbody tr th:only-of-type {\n",
       "        vertical-align: middle;\n",
       "    }\n",
       "\n",
       "    .dataframe tbody tr th {\n",
       "        vertical-align: top;\n",
       "    }\n",
       "\n",
       "    .dataframe thead th {\n",
       "        text-align: right;\n",
       "    }\n",
       "</style>\n",
       "<table border=\"1\" class=\"dataframe\">\n",
       "  <thead>\n",
       "    <tr style=\"text-align: right;\">\n",
       "      <th></th>\n",
       "      <th>M1</th>\n",
       "      <th>M2</th>\n",
       "      <th>M3</th>\n",
       "      <th>M4</th>\n",
       "      <th>M5</th>\n",
       "      <th>M6</th>\n",
       "      <th>M7</th>\n",
       "      <th>M8</th>\n",
       "    </tr>\n",
       "  </thead>\n",
       "  <tbody>\n",
       "    <tr>\n",
       "      <th>determinants</th>\n",
       "      <td>0.000000</td>\n",
       "      <td>0.594089</td>\n",
       "      <td>0.327327</td>\n",
       "      <td>0.000000</td>\n",
       "      <td>0.1</td>\n",
       "      <td>0.0</td>\n",
       "      <td>0.147442</td>\n",
       "      <td>0.154303</td>\n",
       "    </tr>\n",
       "    <tr>\n",
       "      <th>eigenvalues</th>\n",
       "      <td>0.000000</td>\n",
       "      <td>0.000000</td>\n",
       "      <td>0.000000</td>\n",
       "      <td>0.000000</td>\n",
       "      <td>0.0</td>\n",
       "      <td>0.5</td>\n",
       "      <td>0.442326</td>\n",
       "      <td>0.308607</td>\n",
       "    </tr>\n",
       "    <tr>\n",
       "      <th>linear</th>\n",
       "      <td>0.539164</td>\n",
       "      <td>0.396059</td>\n",
       "      <td>0.436436</td>\n",
       "      <td>0.573539</td>\n",
       "      <td>0.4</td>\n",
       "      <td>0.0</td>\n",
       "      <td>0.442326</td>\n",
       "      <td>0.462910</td>\n",
       "    </tr>\n",
       "    <tr>\n",
       "      <th>matrices</th>\n",
       "      <td>0.646997</td>\n",
       "      <td>0.495074</td>\n",
       "      <td>0.327327</td>\n",
       "      <td>0.344124</td>\n",
       "      <td>0.4</td>\n",
       "      <td>0.4</td>\n",
       "      <td>0.442326</td>\n",
       "      <td>0.308607</td>\n",
       "    </tr>\n",
       "    <tr>\n",
       "      <th>numerical</th>\n",
       "      <td>0.000000</td>\n",
       "      <td>0.000000</td>\n",
       "      <td>0.000000</td>\n",
       "      <td>0.000000</td>\n",
       "      <td>0.3</td>\n",
       "      <td>0.0</td>\n",
       "      <td>0.589768</td>\n",
       "      <td>0.462910</td>\n",
       "    </tr>\n",
       "    <tr>\n",
       "      <th>orthogonality</th>\n",
       "      <td>0.000000</td>\n",
       "      <td>0.000000</td>\n",
       "      <td>0.000000</td>\n",
       "      <td>0.000000</td>\n",
       "      <td>0.4</td>\n",
       "      <td>0.6</td>\n",
       "      <td>0.000000</td>\n",
       "      <td>0.308607</td>\n",
       "    </tr>\n",
       "    <tr>\n",
       "      <th>spaces</th>\n",
       "      <td>0.000000</td>\n",
       "      <td>0.000000</td>\n",
       "      <td>0.545545</td>\n",
       "      <td>0.229416</td>\n",
       "      <td>0.3</td>\n",
       "      <td>0.3</td>\n",
       "      <td>0.000000</td>\n",
       "      <td>0.154303</td>\n",
       "    </tr>\n",
       "    <tr>\n",
       "      <th>systems</th>\n",
       "      <td>0.539164</td>\n",
       "      <td>0.297044</td>\n",
       "      <td>0.327327</td>\n",
       "      <td>0.229416</td>\n",
       "      <td>0.4</td>\n",
       "      <td>0.2</td>\n",
       "      <td>0.147442</td>\n",
       "      <td>0.154303</td>\n",
       "    </tr>\n",
       "    <tr>\n",
       "      <th>transformations</th>\n",
       "      <td>0.000000</td>\n",
       "      <td>0.000000</td>\n",
       "      <td>0.000000</td>\n",
       "      <td>0.573539</td>\n",
       "      <td>0.1</td>\n",
       "      <td>0.3</td>\n",
       "      <td>0.147442</td>\n",
       "      <td>0.000000</td>\n",
       "    </tr>\n",
       "    <tr>\n",
       "      <th>vector</th>\n",
       "      <td>0.000000</td>\n",
       "      <td>0.396059</td>\n",
       "      <td>0.436436</td>\n",
       "      <td>0.344124</td>\n",
       "      <td>0.4</td>\n",
       "      <td>0.1</td>\n",
       "      <td>0.000000</td>\n",
       "      <td>0.462910</td>\n",
       "    </tr>\n",
       "  </tbody>\n",
       "</table>\n",
       "</div>"
      ],
      "text/plain": [
       "                       M1        M2        M3        M4   M5   M6        M7  \\\n",
       "determinants     0.000000  0.594089  0.327327  0.000000  0.1  0.0  0.147442   \n",
       "eigenvalues      0.000000  0.000000  0.000000  0.000000  0.0  0.5  0.442326   \n",
       "linear           0.539164  0.396059  0.436436  0.573539  0.4  0.0  0.442326   \n",
       "matrices         0.646997  0.495074  0.327327  0.344124  0.4  0.4  0.442326   \n",
       "numerical        0.000000  0.000000  0.000000  0.000000  0.3  0.0  0.589768   \n",
       "orthogonality    0.000000  0.000000  0.000000  0.000000  0.4  0.6  0.000000   \n",
       "spaces           0.000000  0.000000  0.545545  0.229416  0.3  0.3  0.000000   \n",
       "systems          0.539164  0.297044  0.327327  0.229416  0.4  0.2  0.147442   \n",
       "transformations  0.000000  0.000000  0.000000  0.573539  0.1  0.3  0.147442   \n",
       "vector           0.000000  0.396059  0.436436  0.344124  0.4  0.1  0.000000   \n",
       "\n",
       "                       M8  \n",
       "determinants     0.154303  \n",
       "eigenvalues      0.308607  \n",
       "linear           0.462910  \n",
       "matrices         0.308607  \n",
       "numerical        0.462910  \n",
       "orthogonality    0.308607  \n",
       "spaces           0.154303  \n",
       "systems          0.154303  \n",
       "transformations  0.000000  \n",
       "vector           0.462910  "
      ]
     },
     "execution_count": 67,
     "metadata": {},
     "output_type": "execute_result"
    }
   ],
   "source": [
    "import math\n",
    "arr = np.zeros((8, 10))\n",
    "countx=0\n",
    "for i in [A[\"M1\"], A[\"M2\"],A[\"M3\"], A[\"M4\"], A[\"M5\"], A[\"M6\"], A[\"M7\"], A[\"M8\"]]:\n",
    "    county=0\n",
    "    d = 0\n",
    "    for j in i:\n",
    "        d += j**2\n",
    "    for j in i:\n",
    "        arr[countx][county] = j/math.sqrt(d)\n",
    "        county += 1\n",
    "    countx += 1\n",
    "Q = pd.DataFrame(arr).T\n",
    "Q.columns=[\"M1\", \"M2\", \"M3\", \"M4\", \"M5\", \"M6\", \"M7\", \"M8\"]\n",
    "Q.index=[\"determinants\", \"eigenvalues\", \"linear\", \"matrices\", \"numerical\", \"orthogonality\", \"spaces\", \"systems\", \"transformations\", \"vector\"]\n",
    "Q"
   ]
  },
  {
   "cell_type": "markdown",
   "id": "5f59fdae",
   "metadata": {},
   "source": [
    "First, we use pandas to create a dataframe, and add the indexes and columns on the dataframe. then, in order to calculate the unit vectors as matrix Q , we calculate the ||X|| for each columns, and calculate the values of each positions."
   ]
  },
  {
   "cell_type": "markdown",
   "id": "c004fea4",
   "metadata": {},
   "source": [
    "## 2B\n",
    "form a unit search vector x whose entries are all 0 except for the three rows corresponding to the search rows."
   ]
  },
  {
   "cell_type": "code",
   "execution_count": 68,
   "id": "7b5ff1d4",
   "metadata": {},
   "outputs": [
    {
     "data": {
      "text/plain": [
       "0    0.00000\n",
       "1    0.00000\n",
       "2    0.00000\n",
       "3    0.00000\n",
       "4    0.00000\n",
       "5    0.57735\n",
       "6    0.57735\n",
       "7    0.00000\n",
       "8    0.00000\n",
       "9    0.57735\n",
       "dtype: float64"
      ]
     },
     "execution_count": 68,
     "metadata": {},
     "output_type": "execute_result"
    }
   ],
   "source": [
    "x = pd.Series([0,0,0,0,0,1/math.sqrt(3),1/math.sqrt(3),0,0,1/math.sqrt(3) ])\n",
    "x"
   ]
  },
  {
   "cell_type": "markdown",
   "id": "8ebba755",
   "metadata": {},
   "source": [
    "## 2C\n",
    "Calculate the cosine similarity y=Q.t * X and rank the modules."
   ]
  },
  {
   "cell_type": "code",
   "execution_count": 69,
   "id": "20a83049",
   "metadata": {},
   "outputs": [
    {
     "data": {
      "text/plain": [
       "array([0.        , 0.22866478, 0.56694671, 0.33113309, 0.6350853 ,\n",
       "       0.57735027, 0.        , 0.53452248])"
      ]
     },
     "execution_count": 69,
     "metadata": {},
     "output_type": "execute_result"
    }
   ],
   "source": [
    "y = np.dot(Q.T, x)\n",
    "y"
   ]
  },
  {
   "cell_type": "code",
   "execution_count": 70,
   "id": "09cefbf9",
   "metadata": {},
   "outputs": [
    {
     "name": "stdout",
     "output_type": "stream",
     "text": [
      "[5 6 3 8 4 2 7 1]\n"
     ]
    }
   ],
   "source": [
    "rank = np.argsort(y)[::-1]\n",
    "rank += 1\n",
    "print(rank)"
   ]
  },
  {
   "cell_type": "code",
   "execution_count": null,
   "id": "a306ff75",
   "metadata": {},
   "outputs": [],
   "source": []
  }
 ],
 "metadata": {
  "kernelspec": {
   "display_name": "Python 3 (ipykernel)",
   "language": "python",
   "name": "python3"
  },
  "language_info": {
   "codemirror_mode": {
    "name": "ipython",
    "version": 3
   },
   "file_extension": ".py",
   "mimetype": "text/x-python",
   "name": "python",
   "nbconvert_exporter": "python",
   "pygments_lexer": "ipython3",
   "version": "3.9.12"
  }
 },
 "nbformat": 4,
 "nbformat_minor": 5
}
